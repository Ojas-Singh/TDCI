{
 "cells": [
  {
   "cell_type": "code",
   "execution_count": 48,
   "id": "843a227d",
   "metadata": {},
   "outputs": [],
   "source": [
    "import os\n",
    "import sys\n",
    "import time\n",
    "import numpy as np\n",
    "import psi4\n",
    "import numpy as np\n",
    "from tqdm import tqdm"
   ]
  },
  {
   "cell_type": "code",
   "execution_count": 49,
   "id": "0f138632",
   "metadata": {},
   "outputs": [],
   "source": [
    "def RL(A, k, mode='rl', learning_rate=0.5, discount=0.99, max_episode=30,\n",
    "       max_pick=None,silent=False,ex=0):\n",
    "    NDIM = len(A)\n",
    "    if max_pick is None:\n",
    "        max_pick = NDIM - k\n",
    "    if mode == 'rl':\n",
    "        E, idx = RL(A, k, mode='greedy')\n",
    "        state = np.zeros((NDIM), dtype=np.int64)\n",
    "        state[idx] = 1  # set topk rows from initialization to \"active\"\n",
    "        active = np.argwhere(state == 1).reshape(-1,)\n",
    "        inactive = np.argwhere(state == 0).reshape(-1,)\n",
    "        assert len(active) == k\n",
    "        assert len(inactive) == NDIM - k\n",
    "        E, C = np.linalg.eigh(A[np.ix_(active, active)])\n",
    "        E0, C0 = E[0], C[:, 0]\n",
    "        E_best, state_best = E0, active\n",
    "        w = np.zeros((NDIM))\n",
    "        w[active] = np.abs(C0)  # from initial guess\n",
    "        w[active] /= np.linalg.norm(w[active])  # normalize\n",
    "        w[inactive] = perturb(A, state)  # PT guess at weights\n",
    "        w[inactive] /= np.linalg.norm(w[inactive])  # normalize\n",
    "        v = np.zeros_like(w)  # auxilliary weights\n",
    "        if not silent:\n",
    "            progress_bar = tqdm(range(max_episode))  # keep track of progress\n",
    "        else:\n",
    "            progress_bar = range(max_episode)  \n",
    "        for episode in progress_bar:\n",
    "            if not silent:\n",
    "                progress_bar.set_description(\"Best energy: %.6f\" % E_best)\n",
    "            explore_rate = np.exp(-learning_rate*(episode+1))\n",
    "            state *= 0\n",
    "            if np.random.rand(1) < 0.75:\n",
    "                active = np.argsort(w)[::-1][:k].reshape(-1,)\n",
    "            else:\n",
    "                active = state_best\n",
    "            state[active] = 1\n",
    "            inactive = np.argwhere(state == 0).reshape(-1,)\n",
    "            E, C = np.linalg.eigh(A[np.ix_(active, active)])\n",
    "            E0, C0 = E[0], C[:, 0]\n",
    "            if E0 < E_best:\n",
    "                E_best = E0\n",
    "                state_best = active\n",
    "            active_idx_sorted = np.argsort(w[active])  # sort asc\n",
    "            selected = np.arange(len(w))[active][active_idx_sorted]\n",
    "            cj = perturb(A, state)  # PT guess at weights\n",
    "            inact_idx_sort = np.argsort(np.abs(cj))[::-1]  # desc\n",
    "            expanded = np.arange(len(w))[inactive][inact_idx_sort][:max_pick]\n",
    "            total_replaced = 0\n",
    "            for j in range(max_pick):\n",
    "                assert sum(state) == k  # make sure we have consistent # row\n",
    "                is_replaced = False\n",
    "                state[expanded[j]] = 1\n",
    "                for i in range(k):\n",
    "                    state[selected[i]] = 0\n",
    "                    active = np.argwhere(state == 1).reshape(-1,)\n",
    "                    inactive = np.argwhere(state == 0).reshape(-1,)\n",
    "                    assert len(active) == k\n",
    "                    assert len(inactive) == NDIM - k\n",
    "                    E, C = np.linalg.eigh(A[np.ix_(active, active)])\n",
    "                    Enew, Cnew = E[0], C[:, 0]\n",
    "                    if Enew < E0 * (1 - explore_rate*np.random.rand(1)):\n",
    "                        is_replaced = True\n",
    "                        total_replaced += 1\n",
    "                        state1 = np.zeros_like(state)\n",
    "                        state1[selected] = 1\n",
    "                        p = selected[i]\n",
    "                        q = expanded[j]\n",
    "                        sele1, sele2 = np.split(selected, [i])\n",
    "                        selected = np.concatenate((sele1,\n",
    "                                                   sele2[1:],\n",
    "                                                   [expanded[j]]))\n",
    "                        state2 = np.zeros_like(state)\n",
    "                        state2[selected] = 1\n",
    "                        active = np.argwhere(state2 == 1).reshape(-1,)\n",
    "                        inactive = np.argwhere(state2 == 0).reshape(-1,)\n",
    "                        R = E0 - Enew\n",
    "                        if Enew < E_best:\n",
    "                            E_best = Enew\n",
    "                            state_best = active\n",
    "                        E0 = Enew\n",
    "                        C0 = Cnew\n",
    "                        pp = np.arange(len(w))[active][np.argmin(w[active])]\n",
    "                        qp = np.arange(len(w))[inactive][np.argmax(w[inactive])]\n",
    "                        assert w[pp] == min(w[active])\n",
    "                        assert w[qp] == max(w[inactive])\n",
    "                        assert p not in active\n",
    "                        delta = R + discount*np.dot(w,f(state2,(pp,qp))) - np.dot(w,f(state1,(p,q)))\n",
    "                        aux = np.dot(f(state1,(p,q)),v) \n",
    "                        w += learning_rate *\\\n",
    "                             (delta*f(state1,(p,q)) - discount*aux*f(state2,(pp,qp)))\n",
    "                        beta = np.sqrt(learning_rate) \n",
    "                        v += beta*(delta - aux)*f(state1,(p,q))\n",
    "                        break\n",
    "                    state[selected[i]] = 1\n",
    "                if is_replaced is False:\n",
    "                    state[expanded[j]] = 0\n",
    "\n",
    "            if total_replaced == 0:\n",
    "                break\n",
    "\n",
    "        return E_best, state_best\n",
    "    if mode == 'rle':\n",
    "        E, idx = RL(A, k, mode='greedy')\n",
    "        state = np.zeros((NDIM), dtype=np.int64)\n",
    "        state[idx] = 1  # set topk rows from initialization to \"active\"\n",
    "        active = np.argwhere(state == 1).reshape(-1,)\n",
    "        inactive = np.argwhere(state == 0).reshape(-1,)\n",
    "        assert len(active) == k\n",
    "        assert len(inactive) == NDIM - k\n",
    "#         E, C = np.linalg.eigh(A[np.ix_(active, active)])\n",
    "        E0, C0 = chi(A,state)\n",
    "#         E0, C0 = E[2], C[:, 2]\n",
    "        E_best, state_best = E0, active\n",
    "        w = np.zeros((NDIM))\n",
    "        w[active] = np.abs(C0)  # from initial guess\n",
    "        w[active] /= np.linalg.norm(w[active])  # normalize\n",
    "        w[inactive] = perturb(A, state)  # PT guess at weights\n",
    "        w[inactive] /= np.linalg.norm(w[inactive])  # normalize\n",
    "        v = np.zeros_like(w)  # auxilliary weights\n",
    "        if not silent:\n",
    "            progress_bar = tqdm(range(max_episode))  # keep track of progress\n",
    "        else:\n",
    "            progress_bar = range(max_episode)  \n",
    "        for episode in progress_bar:\n",
    "            if not silent:\n",
    "                progress_bar.set_description(\"Best energy: %.6f\" % E_best)\n",
    "            explore_rate = np.exp(-learning_rate*(episode+1))\n",
    "            state *= 0\n",
    "            if np.random.rand(1) < 0.75:\n",
    "                active = np.argsort(w)[::-1][:k].reshape(-1,)\n",
    "            else:\n",
    "                active = state_best\n",
    "            state[active] = 1\n",
    "            inactive = np.argwhere(state == 0).reshape(-1,)\n",
    "#             E, C = np.linalg.eigh(A[np.ix_(active, active)])\n",
    "            E0, C0 = chi(A,state)\n",
    "            if E0 < E_best:\n",
    "                E_best = E0\n",
    "                state_best = active\n",
    "            active_idx_sorted = np.argsort(w[active])  # sort asc\n",
    "            selected = np.arange(len(w))[active][active_idx_sorted]\n",
    "            cj = perturbex(A, state)  # PT guess at weights\n",
    "            inact_idx_sort = np.argsort(np.abs(cj))[::-1]  # desc\n",
    "            expanded = np.arange(len(w))[inactive][inact_idx_sort][:max_pick]\n",
    "            total_replaced = 0\n",
    "            for j in range(max_pick):\n",
    "                assert sum(state) == k  # make sure we have consistent # row\n",
    "                is_replaced = False\n",
    "                state[expanded[j]] = 1\n",
    "                for i in range(k):\n",
    "                    state[selected[i]] = 0\n",
    "                    active = np.argwhere(state == 1).reshape(-1,)\n",
    "                    inactive = np.argwhere(state == 0).reshape(-1,)\n",
    "                    assert len(active) == k\n",
    "                    assert len(inactive) == NDIM - k\n",
    "\n",
    "#                     E, C = np.linalg.eigh(A[np.ix_(active, active)])\n",
    "                    Enew, Cnew = chi(A,state)\n",
    "                    if Enew < E0 * (1 - explore_rate*np.random.rand(1)):\n",
    "                        is_replaced = True\n",
    "\n",
    "                        total_replaced += 1\n",
    "                        state1 = np.zeros_like(state)\n",
    "                        state1[selected] = 1\n",
    "                        p = selected[i]\n",
    "                        q = expanded[j]\n",
    "\n",
    "                        sele1, sele2 = np.split(selected, [i])\n",
    "                        selected = np.concatenate((sele1,\n",
    "                                                   sele2[1:],\n",
    "                                                   [expanded[j]]))\n",
    "\n",
    "                        # update state\n",
    "                        state2 = np.zeros_like(state)\n",
    "                        state2[selected] = 1\n",
    "                        active = np.argwhere(state2 == 1).reshape(-1,)\n",
    "                        inactive = np.argwhere(state2 == 0).reshape(-1,)\n",
    "                        R = E0 - Enew\n",
    "                        if Enew < E_best:\n",
    "                            E_best = Enew\n",
    "                            state_best = active\n",
    "                        E0 = Enew\n",
    "                        C0 = Cnew\n",
    "                        pp = np.arange(len(w))[active][np.argmin(w[active])]\n",
    "                        qp = np.arange(len(w))[inactive][np.argmax(w[inactive])]\n",
    "                        assert w[pp] == min(w[active])\n",
    "                        assert w[qp] == max(w[inactive])\n",
    "                        assert p not in active\n",
    "                        delta = R + discount*np.dot(w,f(state2,(pp,qp))) - np.dot(w,f(state1,(p,q)))\n",
    "                        aux = np.dot(f(state1,(p,q)),v) \n",
    "                        w += learning_rate *\\\n",
    "                             (delta*f(state1,(p,q)) - discount*aux*f(state2,(pp,qp)))\n",
    "                        beta = np.sqrt(learning_rate) \n",
    "                        v += beta*(delta - aux)*f(state1,(p,q))\n",
    "                        break\n",
    "                    state[selected[i]] = 1\n",
    "                if is_replaced is False:\n",
    "                    state[expanded[j]] = 0\n",
    "            if total_replaced == 0:\n",
    "                break\n",
    "        return E_best, state_best\n",
    "    elif mode == 'apsci':\n",
    "        E, C = np.linalg.eigh(A)\n",
    "        idx = np.argpartition(np.abs(C[:, 0]), -k)[-k:]\n",
    "        A1 = A[np.ix_(idx, idx)]\n",
    "        E_apsci = np.linalg.eigvalsh(A1)[0]\n",
    "        return E_apsci, idx\n",
    "    elif mode == 'greedy':\n",
    "        state = np.zeros((NDIM))\n",
    "        for i in range(k):\n",
    "            if i == 0:\n",
    "                state[0] = 1\n",
    "            active = np.argwhere(state == 1).reshape(-1,)\n",
    "            inactive = np.argwhere(state == 0).reshape(-1,)\n",
    "            A1 = A[np.ix_(active, active)]\n",
    "            E, C = np.linalg.eigh(A1)\n",
    "            E0, C0 = E[0], C[:, 0]\n",
    "            if i < k - 1:\n",
    "                cj = perturb(A, state)\n",
    "                cj_idx = np.argmax(np.abs(cj))\n",
    "                state[np.arange(NDIM)[inactive][cj_idx]] = 1\n",
    "            else:\n",
    "                break\n",
    "        E_greedy = E0\n",
    "        idx = np.argwhere(state == 1)\n",
    "        assert len(idx) == k\n",
    "        return E_greedy, idx\n",
    "    elif mode == 'greedyex':\n",
    "        state = np.zeros((NDIM))\n",
    "        for i in range(k):\n",
    "            if i == 0:\n",
    "                state[0] = 1\n",
    "            active = np.argwhere(state == 1).reshape(-1,)\n",
    "            inactive = np.argwhere(state == 0).reshape(-1,)\n",
    "            A1 = A[np.ix_(active, active)]\n",
    "            E, C = np.linalg.eigh(A1)\n",
    "            E0, C0 = E[0], C[:, 0]\n",
    "            if i < k - 1:\n",
    "                cj = perturb(A, state)\n",
    "                cj_idx = np.argmax(np.abs(cj))\n",
    "                state[np.arange(NDIM)[inactive][cj_idx]] = 1\n",
    "            else:\n",
    "                break\n",
    "        E_greedy = E0\n",
    "        idx = np.argwhere(state == 1)\n",
    "        assert len(idx) == k\n",
    "        return E_greedy, idx\n",
    "    elif mode == 'full':\n",
    "        return np.linalg.eigvalsh(A)[0], None\n",
    "\n",
    "def f(state,a):\n",
    "    active = np.argwhere(state == 1).reshape(-1,) \n",
    "    vector = np.zeros_like(state)\n",
    "    p,q = a\n",
    "    assert state[p] == 1\n",
    "    assert state[q] == 0\n",
    "    vector[active] = 1\n",
    "    vector[q] =  1\n",
    "    vector[p] = -1\n",
    "    return vector/np.linalg.norm((vector))\n",
    "\n",
    "def perturb(A, state):\n",
    "    active = np.argwhere(state == 1).reshape(-1,)  # active row indices\n",
    "    inactive = np.argwhere(state == 0).reshape(-1,)  # inactive row indices\n",
    "    E, C = np.linalg.eigh(A[np.ix_(active, active)])\n",
    "    E0, C0 = E[0], C[:, 0]\n",
    "    a = np.minimum(1e5, np.abs(np.dot(A[np.ix_(inactive, active)], C0)))\n",
    "    b = np.maximum(1e-5, np.abs(E0-np.diagonal(A[np.ix_(inactive, inactive)])))\n",
    "    c = np.true_divide(a, b)\n",
    "    return c\n",
    "\n"
   ]
  },
  {
   "cell_type": "code",
   "execution_count": 50,
   "id": "697cb471",
   "metadata": {},
   "outputs": [
    {
     "name": "stdout",
     "output_type": "stream",
     "text": [
      "\n",
      "Starting SCF and integral build...\n",
      "5 7 2\n"
     ]
    }
   ],
   "source": [
    "\n",
    "psi4.core.set_output_file('output.dat', False)\n",
    "\n",
    "numpy_memory = 14\n",
    "\n",
    "mol = psi4.geometry(\"\"\"\n",
    "O\n",
    "H 1 1.1\n",
    "H 1 1.1 2 104\n",
    "symmetry c1\n",
    "\n",
    "\"\"\")\n",
    "#                     H-He \t                Li-Ne                   \tNa-Ar \n",
    "# cc-pVDZ   \t[2s1p] → 5 func. \t    [3s2p1d] →   14 func. \t    [4s3p1d] → 18 func.\n",
    "# cc-pVTZ   \t[3s2p1d] → 14 func. \t[4s3p2d1f] → 30 func. \t    [5s4p2d1f] → 34 func.\n",
    "# cc-pVQZ   \t[4s3p2d1f] → 30 func. \t[5s4p3d2f1g] → 55 func. \t[6s5p3d2f1g] → 59 func.\n",
    "# aug-cc-pVDZ \t[3s2p] → 9 func. \t    [4s3p2d] → 23 func.     \t[5s4p2d] → 27 func.\n",
    "# aug-cc-pVTZ \t[4s3p2d] → 23 func. \t[5s4p3d2f] → 46 func.   \t[6s5p3d2f] → 50 func.\n",
    "# aug-cc-pVQZ \t[5s4p3d2f] → 46 func. \t[6s5p4d3f2g] → 80 func. \t[7s6p4d3f2g] → 84 func. \n",
    "psi4.set_options({'basis': 'STO-6G', 'scf_type': 'pk', 'e_convergence': 1e-8, 'd_convergence': 1e-8})\n",
    "\n",
    "print('\\nStarting SCF and integral build...')\n",
    "\n",
    "scf_e, wfn = psi4.energy('SCF', return_wfn=True)\n",
    "\n",
    "C = wfn.Ca()\n",
    "\n",
    "ndocc = wfn.doccpi()[0]\n",
    "nmo = wfn.nmo()\n",
    "nvirt = nmo - ndocc\n",
    "print(ndocc,nmo,nvirt)\n",
    "\n"
   ]
  },
  {
   "cell_type": "code",
   "execution_count": 51,
   "id": "e2ed633a",
   "metadata": {},
   "outputs": [
    {
     "name": "stdout",
     "output_type": "stream",
     "text": [
      "may be energy : -75.72648934089273\n",
      "\n",
      "PSI4 cisd cal: 0.202 seconds.\n",
      "\n"
     ]
    }
   ],
   "source": [
    "t = time.time()\n",
    "print(\"may be energy :\",psi4.energy('DETCI'))\n",
    "print('\\nPSI4 cisd cal: %.3f seconds.\\n' % (time.time() - t))\n"
   ]
  },
  {
   "cell_type": "code",
   "execution_count": 52,
   "id": "d7a0b427",
   "metadata": {},
   "outputs": [],
   "source": [
    "mints = psi4.core.MintsHelper(wfn.basisset())\n",
    "H = np.asarray(mints.ao_kinetic()) + np.asarray(mints.ao_potential())\n",
    "\n",
    "\n",
    "MO = np.asarray(mints.mo_spin_eri(C, C))\n",
    "Vee = np.asarray(mints.mo_eri(C,C,C,C))\n",
    "\n",
    "H = np.einsum('uj,vi,uv', C, C, H)\n",
    "Hone = H.copy()\n",
    "H = np.repeat(H, 2, axis=0)\n",
    "H = np.repeat(H, 2, axis=1)\n",
    "\n",
    "spin_ind = np.arange(H.shape[0], dtype=np.int64) % 2\n",
    "H *= (spin_ind.reshape(-1, 1) == spin_ind)"
   ]
  },
  {
   "cell_type": "code",
   "execution_count": 53,
   "id": "0f604dee",
   "metadata": {},
   "outputs": [
    {
     "name": "stdout",
     "output_type": "stream",
     "text": [
      "Generating 21 CIS singlet Determinants...\n",
      "..finished generating determinants in 0.000 seconds.\n",
      "\n",
      "Generating Hamiltonian Matrix...\n"
     ]
    }
   ],
   "source": [
    "from scipy.special import comb\n",
    "nDet_S = ndocc * nvirt * 2\n",
    "nDet_D = 2 * comb(ndocc, 2) * comb(nvirt, 2) + ndocc**2 * nvirt**2\n",
    "nDet = 1 + nDet_S + nDet_D\n",
    "\n",
    "\n",
    "# nDet = comb(nmo, ndocc)**2\n",
    "\n",
    "# print(\"FCI nDet :\" ,nDet)\n",
    "from helper_CI import Determinant, HamiltonianGenerator\n",
    "from itertools import combinations\n",
    "\n",
    "print('Generating %d CIS singlet Determinants...' % (nDet_S + 1))\n",
    "t = time.time()\n",
    "\n",
    "occList = [i for i in range(ndocc)]\n",
    "det_ref = Determinant(alphaObtList=occList, betaObtList=occList)\n",
    "detList = det_ref.generateSingleExcitationsOfDet(nmo)\n",
    "detList.append(det_ref)\n",
    "\n",
    "print('..finished generating determinants in %.3f seconds.\\n' % (time.time() - t))\n",
    "\n",
    "print('Generating Hamiltonian Matrix...')\n",
    "\n",
    "t = time.time()\n",
    "Hamiltonian_generator = HamiltonianGenerator(H, MO)\n",
    "Hamiltonian_matrixCIS = Hamiltonian_generator.generateMatrix(detList)"
   ]
  },
  {
   "cell_type": "code",
   "execution_count": 54,
   "id": "57c99f0d",
   "metadata": {},
   "outputs": [
    {
     "name": "stdout",
     "output_type": "stream",
     "text": [
      "Generating 141 CISD Determinants...\n"
     ]
    }
   ],
   "source": [
    "\n",
    "print('Generating %d CISD Determinants...' % (nDet))\n",
    "\n",
    "occList = [i for i in range(ndocc)]\n",
    "\n",
    "det_ref = Determinant(alphaObtList=occList, betaObtList=occList)\n",
    "\n",
    "detList = det_ref.generateSingleAndDoubleExcitationsOfDet(nmo)\n",
    "detList.append(det_ref)\n",
    "\n",
    "Hamiltonian_generator = HamiltonianGenerator(H, MO)\n",
    "Hamiltonian_matrixCISD = Hamiltonian_generator.generateMatrix(detList)\n"
   ]
  },
  {
   "cell_type": "code",
   "execution_count": 55,
   "id": "286aa027",
   "metadata": {},
   "outputs": [
    {
     "name": "stdout",
     "output_type": "stream",
     "text": [
      "Generating 441 Full CI Determinants...\n"
     ]
    }
   ],
   "source": [
    "nDet = comb(nmo, ndocc)**2\n",
    "print('Generating %d Full CI Determinants...' % (nDet))\n",
    "detList = []\n",
    "for alpha in combinations(range(nmo), ndocc):\n",
    "    for beta in combinations(range(nmo), ndocc):\n",
    "        detList.append(Determinant(alphaObtList=alpha, betaObtList=beta))\n",
    "\n",
    "\n",
    "t = time.time()\n",
    "Hamiltonian_generator = HamiltonianGenerator(H, MO)\n",
    "Hamiltonian_matrixFCI = Hamiltonian_generator.generateMatrix(detList)"
   ]
  },
  {
   "cell_type": "code",
   "execution_count": 56,
   "id": "51115751",
   "metadata": {},
   "outputs": [
    {
     "name": "stdout",
     "output_type": "stream",
     "text": [
      "Energies  0 FCI :-83.730648587054418 CISD   :-83.728855823066269 CIS   :-83.659154377760302\n",
      "Energies  1 FCI :-83.457159196041829 CISD   :-83.426311291330066 CIS   :-83.374856891318117\n",
      "Energies  2 FCI :-83.409932220195714 CISD   :-83.378450382307022 CIS   :-83.319206897604531\n",
      "Energies  3 FCI :-83.374575012981808 CISD   :-83.339840345742715 CIS   :-83.306092641671881\n",
      "Energies  4 FCI :-83.366779618225650 CISD   :-83.336968241016535 CIS   :-83.296350826200992\n",
      "Energies  5 FCI :-83.340405009990363 CISD   :-83.306470799506116 CIS   :-83.269757085011818\n",
      "Energies  6 FCI :-83.307981908309642 CISD   :-83.277003105910410 CIS   :-83.246546349358127\n",
      "Energies  7 FCI :-83.240599056191726 CISD   :-83.221305551089770 CIS   :-83.157716325526295\n",
      "Energies  8 FCI :-83.193928679946225 CISD   :-83.180092869150755 CIS   :-83.149490450908829\n",
      "Energies  9 FCI :-83.183946532269573 CISD   :-83.169141718254352 CIS   :-83.108841139382534\n"
     ]
    }
   ],
   "source": [
    "e_cis, wavefunctions = np.linalg.eigh(Hamiltonian_matrixCIS)\n",
    "e_cisd, wavefunctions = np.linalg.eigh(Hamiltonian_matrixCISD)\n",
    "e_fci, wavefunctions = np.linalg.eigh(Hamiltonian_matrixFCI)\n",
    "for i in range(0,10):\n",
    "        print(\"Energies \",i,\"FCI :% 16.15f\"% (e_fci[i]),\"CISD   :% 16.15f\"% (e_cisd[i]),\"CIS   :% 16.15f\"% (e_cis[i]))\n",
    "        \n"
   ]
  },
  {
   "cell_type": "code",
   "execution_count": 57,
   "id": "138430f9",
   "metadata": {},
   "outputs": [
    {
     "name": "stdout",
     "output_type": "stream",
     "text": [
      "249.36118382779628\n",
      "k:     141\n",
      "NDet:  441\n",
      "Exact:   (-83.73064858705433, None)\n",
      "ap-sCI:  -83.73064858705439\n",
      "greedy:  -83.73064858705445\n"
     ]
    }
   ],
   "source": [
    "A= Hamiltonian_matrixFCI\n",
    "from numpy import count_nonzero\n",
    "sparsity = len(A)*np.sqrt( count_nonzero(A) / float(A.size) )\n",
    "print(sparsity)\n",
    "k = 141  # sparsity\n",
    "print(\"k:    \", k)\n",
    "print(\"NDet: \", len(A))\n",
    "\n",
    "E_exact = RL(A, k, mode='full') \n",
    "print(\"Exact:  \", E_exact)\n",
    "\n",
    "E_apsci, sapsci = RL(A, k, mode='apsci')\n",
    "print(\"ap-sCI: \", E_apsci)\n",
    "\n",
    "E_greedy, sgreedy = RL(A, k, mode='greedy')\n",
    "print(\"greedy: \", E_greedy)"
   ]
  },
  {
   "cell_type": "code",
   "execution_count": 74,
   "id": "6e943f62",
   "metadata": {},
   "outputs": [
    {
     "data": {
      "image/png": "[encoded data removed]",
      "text/plain": [
       "<Figure size 2700x1800 with 2 Axes>"
      ]
     },
     "metadata": {
      "needs_background": "light"
     },
     "output_type": "display_data"
    }
   ],
   "source": [
    "import numpy as np\n",
    "import matplotlib.pyplot as plt\n",
    "import matplotlib as mpl\n",
    "figure = plt.figure(dpi=450)\n",
    "axes = figure.add_subplot(111)\n",
    "# axes.xaxis.set_tick_params(which='major', size=0, width=0, direction='in', top='on')\n",
    "# axes.xaxis.set_major_locator(mpl.ticker.MultipleLocator(1))\n",
    "# plt.rcParams['axes.linewidth'] = 0.5\n",
    "# axes.spy(Hamiltonian_matrixCISD, markersize=0.5)\n",
    "caxes = axes.matshow(Hamiltonian_matrixCISD, interpolation ='nearest',cmap=\"binary_r\")\n",
    "figure.colorbar(caxes)\n",
    "# plt.grid()\n",
    "# plt.xticks(np.arange(0, 140, 1.0))\n",
    "# plt.yticks(np.arange(0, 140, 1.0))\n",
    "# plt.axis('off')\n",
    "# plt.grid()\n",
    "# axes.set_xticklabels(['']+alphabets)\n",
    "# axes.set_yticklabels(['']+alphabets)\n",
    " \n",
    "plt.show()"
   ]
  },
  {
   "cell_type": "code",
   "execution_count": 59,
   "id": "27869825",
   "metadata": {},
   "outputs": [
    {
     "name": "stdout",
     "output_type": "stream",
     "text": [
      "0 FCI :-83.730648587054418 CISD   :-83.728855823066269 ap-sCI :-83.730648587054418 Greedy :-83.730648587054446\n",
      "1 FCI :-83.457159196041829 CISD   :-83.426311291330066 ap-sCI :-83.366779618225621 Greedy :-83.366779618225635\n",
      "2 FCI :-83.409932220195714 CISD   :-83.378450382307022 ap-sCI :-83.340474766494950 Greedy :-83.240599056191712\n",
      "3 FCI :-83.374575012981808 CISD   :-83.339840345742715 ap-sCI :-83.271448587779588 Greedy :-83.221311352404783\n",
      "4 FCI :-83.366779618225650 CISD   :-83.336968241016535 ap-sCI :-83.240599056191755 Greedy :-83.152707295314059\n",
      "5 FCI :-83.340405009990363 CISD   :-83.306470799506116 ap-sCI :-83.195637185622701 Greedy :-83.144437235904149\n",
      "6 FCI :-83.307981908309642 CISD   :-83.277003105910410 ap-sCI :-83.152707295314087 Greedy :-83.039355854707182\n",
      "7 FCI :-83.240599056191726 CISD   :-83.221305551089770 ap-sCI :-83.050106490959649 Greedy :-82.985663178250249\n",
      "8 FCI :-83.193928679946225 CISD   :-83.180092869150755 ap-sCI :-82.985663178250206 Greedy :-82.934059565910090\n",
      "9 FCI :-83.183946532269573 CISD   :-83.169141718254352 ap-sCI :-82.934059565910019 Greedy :-82.857709980479498\n"
     ]
    }
   ],
   "source": [
    "s= np.array([x[0] for x in sgreedy[:]])\n",
    "# print(s)\n",
    "E, C = np.linalg.eigh(A[np.ix_(sapsci, sapsci)])\n",
    "Eg, C = np.linalg.eigh(A[np.ix_(s, s)])\n",
    "# Eex, C = np.linalg.eigh(A[np.ix_(sgreedyex, sgreedyex)])\n",
    "for i in range(0,10):\n",
    "        print(i,\"FCI :% 16.15f\"% (e_fci[i]),\"CISD   :% 16.15f\"% (e_cisd[i]),\"ap-sCI :% 16.15f\"% (E[i]),\"Greedy :% 16.15f\"% (Eg[i]))\n",
    "#     print(i,\"CISD   :% 16.15f\"% (e_cisd[i]),\"ap-sCI :% 16.15f\"% (E[i]),\"Greedy :% 16.15f\"% (Eg[i]))"
   ]
  },
  {
   "cell_type": "code",
   "execution_count": 60,
   "id": "3725d046",
   "metadata": {},
   "outputs": [
    {
     "name": "stderr",
     "output_type": "stream",
     "text": [
      "Best energy: -83.730649: 100%|█████████████████████████████████████████████████████████████████████████████████████████████████████████████████████████████████████████████████| 30/30 [03:30<00:00,  7.00s/it]\n",
      "Best energy: -333.559339:   0%|                                                                                                                                                         | 0/30 [00:00<?, ?it/s]\n"
     ]
    },
    {
     "ename": "NameError",
     "evalue": "name 'a' is not defined",
     "output_type": "error",
     "traceback": [
      "\u001b[0;31m---------------------------------------------------------------------------\u001b[0m",
      "\u001b[0;31mNameError\u001b[0m                                 Traceback (most recent call last)",
      "\u001b[0;32m/tmp/ipykernel_23557/2169154798.py\u001b[0m in \u001b[0;36m<module>\u001b[0;34m\u001b[0m\n\u001b[1;32m      1\u001b[0m \u001b[0mE_rl\u001b[0m\u001b[0;34m,\u001b[0m \u001b[0msg\u001b[0m \u001b[0;34m=\u001b[0m \u001b[0mRL\u001b[0m\u001b[0;34m(\u001b[0m\u001b[0mA\u001b[0m\u001b[0;34m,\u001b[0m \u001b[0mk\u001b[0m\u001b[0;34m,\u001b[0m \u001b[0mmode\u001b[0m\u001b[0;34m=\u001b[0m\u001b[0;34m'rl'\u001b[0m\u001b[0;34m,\u001b[0m \u001b[0mmax_pick\u001b[0m\u001b[0;34m=\u001b[0m\u001b[0;32mNone\u001b[0m\u001b[0;34m)\u001b[0m\u001b[0;34m\u001b[0m\u001b[0;34m\u001b[0m\u001b[0m\n\u001b[0;32m----> 2\u001b[0;31m \u001b[0mE_rle\u001b[0m\u001b[0;34m,\u001b[0m \u001b[0msge\u001b[0m \u001b[0;34m=\u001b[0m \u001b[0mRL\u001b[0m\u001b[0;34m(\u001b[0m\u001b[0mA\u001b[0m\u001b[0;34m,\u001b[0m \u001b[0mk\u001b[0m\u001b[0;34m,\u001b[0m \u001b[0mmode\u001b[0m\u001b[0;34m=\u001b[0m\u001b[0;34m'rle'\u001b[0m\u001b[0;34m,\u001b[0m \u001b[0mmax_pick\u001b[0m\u001b[0;34m=\u001b[0m\u001b[0;32mNone\u001b[0m\u001b[0;34m)\u001b[0m\u001b[0;34m\u001b[0m\u001b[0;34m\u001b[0m\u001b[0m\n\u001b[0m\u001b[1;32m      3\u001b[0m \u001b[0;31m# print(\"RL2:    \", E_rl)\u001b[0m\u001b[0;34m\u001b[0m\u001b[0;34m\u001b[0m\u001b[0;34m\u001b[0m\u001b[0m\n\u001b[1;32m      4\u001b[0m \u001b[0;34m\u001b[0m\u001b[0m\n\u001b[1;32m      5\u001b[0m \u001b[0;31m# E_rle, se1 = RL(A, k, mode='rle', max_pick=None,ex=1)\u001b[0m\u001b[0;34m\u001b[0m\u001b[0;34m\u001b[0m\u001b[0;34m\u001b[0m\u001b[0m\n",
      "\u001b[0;32m/tmp/ipykernel_23557/3526323217.py\u001b[0m in \u001b[0;36mRL\u001b[0;34m(A, k, mode, learning_rate, discount, max_episode, max_pick, silent, ex)\u001b[0m\n\u001b[1;32m    140\u001b[0m             \u001b[0mactive_idx_sorted\u001b[0m \u001b[0;34m=\u001b[0m \u001b[0mnp\u001b[0m\u001b[0;34m.\u001b[0m\u001b[0margsort\u001b[0m\u001b[0;34m(\u001b[0m\u001b[0mw\u001b[0m\u001b[0;34m[\u001b[0m\u001b[0mactive\u001b[0m\u001b[0;34m]\u001b[0m\u001b[0;34m)\u001b[0m  \u001b[0;31m# sort asc\u001b[0m\u001b[0;34m\u001b[0m\u001b[0;34m\u001b[0m\u001b[0m\n\u001b[1;32m    141\u001b[0m             \u001b[0mselected\u001b[0m \u001b[0;34m=\u001b[0m \u001b[0mnp\u001b[0m\u001b[0;34m.\u001b[0m\u001b[0marange\u001b[0m\u001b[0;34m(\u001b[0m\u001b[0mlen\u001b[0m\u001b[0;34m(\u001b[0m\u001b[0mw\u001b[0m\u001b[0;34m)\u001b[0m\u001b[0;34m)\u001b[0m\u001b[0;34m[\u001b[0m\u001b[0mactive\u001b[0m\u001b[0;34m]\u001b[0m\u001b[0;34m[\u001b[0m\u001b[0mactive_idx_sorted\u001b[0m\u001b[0;34m]\u001b[0m\u001b[0;34m\u001b[0m\u001b[0;34m\u001b[0m\u001b[0m\n\u001b[0;32m--> 142\u001b[0;31m             \u001b[0mcj\u001b[0m \u001b[0;34m=\u001b[0m \u001b[0mperturbex\u001b[0m\u001b[0;34m(\u001b[0m\u001b[0mA\u001b[0m\u001b[0;34m,\u001b[0m \u001b[0mstate\u001b[0m\u001b[0;34m)\u001b[0m  \u001b[0;31m# PT guess at weights\u001b[0m\u001b[0;34m\u001b[0m\u001b[0;34m\u001b[0m\u001b[0m\n\u001b[0m\u001b[1;32m    143\u001b[0m             \u001b[0minact_idx_sort\u001b[0m \u001b[0;34m=\u001b[0m \u001b[0mnp\u001b[0m\u001b[0;34m.\u001b[0m\u001b[0margsort\u001b[0m\u001b[0;34m(\u001b[0m\u001b[0mnp\u001b[0m\u001b[0;34m.\u001b[0m\u001b[0mabs\u001b[0m\u001b[0;34m(\u001b[0m\u001b[0mcj\u001b[0m\u001b[0;34m)\u001b[0m\u001b[0;34m)\u001b[0m\u001b[0;34m[\u001b[0m\u001b[0;34m:\u001b[0m\u001b[0;34m:\u001b[0m\u001b[0;34m-\u001b[0m\u001b[0;36m1\u001b[0m\u001b[0;34m]\u001b[0m  \u001b[0;31m# desc\u001b[0m\u001b[0;34m\u001b[0m\u001b[0;34m\u001b[0m\u001b[0m\n\u001b[1;32m    144\u001b[0m             \u001b[0mexpanded\u001b[0m \u001b[0;34m=\u001b[0m \u001b[0mnp\u001b[0m\u001b[0;34m.\u001b[0m\u001b[0marange\u001b[0m\u001b[0;34m(\u001b[0m\u001b[0mlen\u001b[0m\u001b[0;34m(\u001b[0m\u001b[0mw\u001b[0m\u001b[0;34m)\u001b[0m\u001b[0;34m)\u001b[0m\u001b[0;34m[\u001b[0m\u001b[0minactive\u001b[0m\u001b[0;34m]\u001b[0m\u001b[0;34m[\u001b[0m\u001b[0minact_idx_sort\u001b[0m\u001b[0;34m]\u001b[0m\u001b[0;34m[\u001b[0m\u001b[0;34m:\u001b[0m\u001b[0mmax_pick\u001b[0m\u001b[0;34m]\u001b[0m\u001b[0;34m\u001b[0m\u001b[0;34m\u001b[0m\u001b[0m\n",
      "\u001b[0;32m/tmp/ipykernel_23557/3526323217.py\u001b[0m in \u001b[0;36mperturbex\u001b[0;34m(A, state)\u001b[0m\n\u001b[1;32m    277\u001b[0m     \u001b[0ma0\u001b[0m \u001b[0;34m=\u001b[0m \u001b[0mnp\u001b[0m\u001b[0;34m.\u001b[0m\u001b[0mminimum\u001b[0m\u001b[0;34m(\u001b[0m\u001b[0;36m1e5\u001b[0m\u001b[0;34m,\u001b[0m \u001b[0mnp\u001b[0m\u001b[0;34m.\u001b[0m\u001b[0mabs\u001b[0m\u001b[0;34m(\u001b[0m\u001b[0mnp\u001b[0m\u001b[0;34m.\u001b[0m\u001b[0mdot\u001b[0m\u001b[0;34m(\u001b[0m\u001b[0mA\u001b[0m\u001b[0;34m[\u001b[0m\u001b[0mnp\u001b[0m\u001b[0;34m.\u001b[0m\u001b[0mix_\u001b[0m\u001b[0;34m(\u001b[0m\u001b[0minactive\u001b[0m\u001b[0;34m,\u001b[0m \u001b[0mactive\u001b[0m\u001b[0;34m)\u001b[0m\u001b[0;34m]\u001b[0m\u001b[0;34m,\u001b[0m \u001b[0mC0\u001b[0m\u001b[0;34m)\u001b[0m\u001b[0;34m)\u001b[0m\u001b[0;34m)\u001b[0m\u001b[0;34m\u001b[0m\u001b[0;34m\u001b[0m\u001b[0m\n\u001b[1;32m    278\u001b[0m     \u001b[0mb0\u001b[0m \u001b[0;34m=\u001b[0m \u001b[0mnp\u001b[0m\u001b[0;34m.\u001b[0m\u001b[0mmaximum\u001b[0m\u001b[0;34m(\u001b[0m\u001b[0;36m1e-5\u001b[0m\u001b[0;34m,\u001b[0m \u001b[0mnp\u001b[0m\u001b[0;34m.\u001b[0m\u001b[0mabs\u001b[0m\u001b[0;34m(\u001b[0m\u001b[0mE0\u001b[0m\u001b[0;34m-\u001b[0m\u001b[0mnp\u001b[0m\u001b[0;34m.\u001b[0m\u001b[0mdiagonal\u001b[0m\u001b[0;34m(\u001b[0m\u001b[0mA\u001b[0m\u001b[0;34m[\u001b[0m\u001b[0mnp\u001b[0m\u001b[0;34m.\u001b[0m\u001b[0mix_\u001b[0m\u001b[0;34m(\u001b[0m\u001b[0minactive\u001b[0m\u001b[0;34m,\u001b[0m \u001b[0minactive\u001b[0m\u001b[0;34m)\u001b[0m\u001b[0;34m]\u001b[0m\u001b[0;34m)\u001b[0m\u001b[0;34m)\u001b[0m\u001b[0;34m)\u001b[0m\u001b[0;34m\u001b[0m\u001b[0;34m\u001b[0m\u001b[0m\n\u001b[0;32m--> 279\u001b[0;31m     \u001b[0mc0\u001b[0m \u001b[0;34m=\u001b[0m \u001b[0mnp\u001b[0m\u001b[0;34m.\u001b[0m\u001b[0mtrue_divide\u001b[0m\u001b[0;34m(\u001b[0m\u001b[0ma\u001b[0m\u001b[0;34m,\u001b[0m \u001b[0mb\u001b[0m\u001b[0;34m)\u001b[0m\u001b[0;34m\u001b[0m\u001b[0;34m\u001b[0m\u001b[0m\n\u001b[0m\u001b[1;32m    280\u001b[0m     \u001b[0mn\u001b[0m\u001b[0;34m=\u001b[0m\u001b[0;36m4\u001b[0m\u001b[0;34m\u001b[0m\u001b[0;34m\u001b[0m\u001b[0m\n\u001b[1;32m    281\u001b[0m     \u001b[0mCc\u001b[0m\u001b[0;34m=\u001b[0m\u001b[0;34m[\u001b[0m\u001b[0;34m]\u001b[0m\u001b[0;34m\u001b[0m\u001b[0;34m\u001b[0m\u001b[0m\n",
      "\u001b[0;31mNameError\u001b[0m: name 'a' is not defined"
     ]
    }
   ],
   "source": [
    "E_rl, sg = RL(A, k, mode='rl', max_pick=None)"
   ]
  },
  {
   "cell_type": "code",
   "execution_count": 67,
   "id": "2c260f4b",
   "metadata": {},
   "outputs": [
    {
     "name": "stderr",
     "output_type": "stream",
     "text": [
      "Best energy: -233.881663: 100%|████████████████████████████████████████████████████████████████████████████████████████████████████████████████████████████████████████████████| 30/30 [10:14<00:00, 20.49s/it]\n"
     ]
    }
   ],
   "source": [
    "def perturbex(A, state):\n",
    "    active = np.argwhere(state == 1).reshape(-1,)  # active row indices\n",
    "    inactive = np.argwhere(state == 0).reshape(-1,)  # inactive row indices\n",
    "    E, C = np.linalg.eigh(A[np.ix_(active, active)])\n",
    "    n=4\n",
    "    a=[1,0.8,0.6,0.4]\n",
    "    Cc=[]\n",
    "    for i in range(0,n):\n",
    "        En, Cn = E[0], C[:, 0]\n",
    "        an = np.minimum(1e5, np.abs(np.dot(A[np.ix_(inactive, active)], Cn)))\n",
    "        bn = np.maximum(1e-5, np.abs(En-np.diagonal(A[np.ix_(inactive, inactive)])))\n",
    "        cn = np.true_divide(an, bn)\n",
    "        Cc.append(cn*a[i])\n",
    "    Cc=np.asarray(Cc)\n",
    "    Cc=Cc.sum(axis=0)\n",
    "    return Cc/np.linalg.norm((Cc))\n",
    "\n",
    "def chi(A,state):\n",
    "    active = np.argwhere(state == 1).reshape(-1,)  # active row indices\n",
    "    inactive = np.argwhere(state == 0).reshape(-1,)  # inactive row indices\n",
    "    E, C = np.linalg.eigh(A[np.ix_(active, active)])\n",
    "    a=[1,0.8,0.6,0.4]\n",
    "    Ec=a[0]*E[0]+a[1]*E[1]+a[2]*E[2]+a[3]*E[3]\n",
    "#     Cc=np.add(C[0],C[1],C[2],C[3])\n",
    "    Cc=a[0]*[0]+a[1]*C[1]+a[2]*C[2]+a[3]*C[3]\n",
    "    return Ec,Cc/np.linalg.norm((Cc))\n",
    "E_rle, sge = RL(A, k, mode='rle', max_pick=None)"
   ]
  },
  {
   "cell_type": "code",
   "execution_count": null,
   "id": "b4342ac4",
   "metadata": {},
   "outputs": [],
   "source": [
    "# print(len(sg),len(se1),len(se2),len(se3),len(se4),len(se5))\n",
    "# print(se)\n",
    "\n",
    "# t = np.unique(np.concatenate((sg,se1,se2,se3,se4,se5),0))"
   ]
  },
  {
   "cell_type": "code",
   "execution_count": null,
   "id": "54d6aeb1",
   "metadata": {
    "scrolled": true
   },
   "outputs": [],
   "source": [
    "# print(sg)\n",
    "# print(se)\n",
    "# print(t)"
   ]
  },
  {
   "cell_type": "code",
   "execution_count": 68,
   "id": "c741f7f2",
   "metadata": {
    "scrolled": true
   },
   "outputs": [
    {
     "name": "stdout",
     "output_type": "stream",
     "text": [
      "Energies  0 FCI :-83.730648587054418 CISD   :-83.728855823066269 RLCI :-83.730648587054446 RLCIe :-83.729785520391715\n",
      "Energies  1 FCI :-83.457159196041829 CISD   :-83.426311291330066 RLCI :-83.366779618225635 RLCIe :-83.454134520315307\n",
      "Energies  2 FCI :-83.409932220195714 CISD   :-83.378450382307022 RLCI :-83.240599056191712 RLCIe :-83.406550713094219\n",
      "Energies  3 FCI :-83.374575012981808 CISD   :-83.339840345742715 RLCI :-83.221311352404783 RLCIe :-83.362588257367335\n",
      "Energies  4 FCI :-83.366779618225650 CISD   :-83.336968241016535 RLCI :-83.152707295314059 RLCIe :-83.234033491891921\n",
      "Energies  5 FCI :-83.340405009990363 CISD   :-83.306470799506116 RLCI :-83.144437235904149 RLCIe :-83.138236531463036\n",
      "Energies  6 FCI :-83.307981908309642 CISD   :-83.277003105910410 RLCI :-83.039355854707182 RLCIe :-82.994472798001340\n",
      "Energies  7 FCI :-83.240599056191726 CISD   :-83.221305551089770 RLCI :-82.985663178250249 RLCIe :-82.964001872331380\n",
      "Energies  8 FCI :-83.193928679946225 CISD   :-83.180092869150755 RLCI :-82.934059565910090 RLCIe :-82.903114932086709\n",
      "Energies  9 FCI :-83.183946532269573 CISD   :-83.169141718254352 RLCI :-82.857709980479498 RLCIe :-82.889326258328751\n"
     ]
    }
   ],
   "source": [
    "\n",
    "# print(len(sg),len(t))\n",
    "E, C = np.linalg.eigh(A[np.ix_(sg, sg)])\n",
    "Ee, C = np.linalg.eigh(A[np.ix_(sge, sge)])\n",
    "for i in range(0,10):\n",
    "        print(\"Energies \",i,\"FCI :% 16.15f\"% (e_fci[i]),\"CISD   :% 16.15f\"% (e_cisd[i]),\"RLCI :% 16.15f\"% (E[i]),\"RLCIe :% 16.15f\"% (Ee[i]))\n",
    "#         print(\"Energies \",i,\"CISD   :% 16.15f\"% (e_cisd[i]),\"RLCI :% 16.15f\"% (E[i])),\"RLCIe :% 16.15f\"% (Ee[i]))"
   ]
  },
  {
   "cell_type": "code",
   "execution_count": null,
   "id": "caf44ca9",
   "metadata": {},
   "outputs": [],
   "source": [
    "plt.clf()\n",
    "figure = plt.figure(dpi=450)\n",
    "axes = figure.add_subplot(111)\n",
    "axes.spy(A[np.ix_(sg, sg)], markersize=0.5)\n",
    "# y=A[np.ix_(sg, sg)]\n",
    "# np.fill_diagonal(y, 0)\n",
    "# caxes = axes.matshow(y, interpolation ='nearest',cmap=\"coolwarm\")\n",
    "# figure.colorbar(caxes)\n",
    "\n",
    "plt.show()"
   ]
  },
  {
   "cell_type": "code",
   "execution_count": null,
   "id": "ad24a3b1",
   "metadata": {},
   "outputs": [],
   "source": []
  },
  {
   "cell_type": "code",
   "execution_count": null,
   "id": "893a6235",
   "metadata": {},
   "outputs": [],
   "source": []
  },
  {
   "cell_type": "code",
   "execution_count": null,
   "id": "f5960a75",
   "metadata": {},
   "outputs": [],
   "source": []
  }
 ],
 "metadata": {
  "kernelspec": {
   "display_name": "Python 3 (ipykernel)",
   "language": "python",
   "name": "python3"
  },
  "language_info": {
   "codemirror_mode": {
    "name": "ipython",
    "version": 3
   },
   "file_extension": ".py",
   "mimetype": "text/x-python",
   "name": "python",
   "nbconvert_exporter": "python",
   "pygments_lexer": "ipython3",
   "version": "3.9.2"
  }
 },
 "nbformat": 4,
 "nbformat_minor": 5
}
